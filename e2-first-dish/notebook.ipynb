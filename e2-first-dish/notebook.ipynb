{
 "cells": [
  {
   "attachments": {},
   "cell_type": "markdown",
   "metadata": {},
   "source": [
    "\n",
    "---\n",
    "\n",
    "### Reminder: This 📘 `.NET Interactive` notebook needs to be run from VS Code with [these prerequisites](../PREREQS.md)."
   ]
  },
  {
   "attachments": {},
   "cell_type": "markdown",
   "metadata": {},
   "source": [
    "#### How to use this notebook: \n",
    "\n",
    "* Just read the text and scroll along until you run into code blocks.\n",
    "* Code blocks have computer code inside them — hover over the block and you can run the code.\n",
    "* Run the code by hitting the ▶️ \"play\" button to the left. If the code runs you'll see a ✔️. If not, you'll get a ❌.\n",
    "* The output and status of the code block will appear just below itself — you need to scroll down further to see it.\n",
    "* Sometimes a code block will ask you for input in a hard-to-notice dialog box 👆 at the top of your notebook window. \n",
    "\n",
    "---"
   ]
  },
  {
   "attachments": {},
   "cell_type": "markdown",
   "metadata": {},
   "source": [
    "# Recipe II: 🍽️ First Dish\n",
    "## 🧑‍🍳 Let's cook our 🧂🔥 first basic dish\n",
    "\n",
    "This notebook has been designed as your \"classroom kitchen\" to get you started quickly with this Semantic Kernel — the easy way to add LLM AI to your app. It's in three parts that is best described with technospeak so you get everything just right:\n",
    "\n",
    "1. **Setting up your OpenAI or Azure OpenAI Service key.** This lets you use this notebook like a playground of sorts. And you only have to enter your key once to get going — it stores it locally into a file called \"settings.json\" on your disk. 🙀 Be sure to not let that file show up publicly anywhere like on your personal GitHub repo — so please .gitignore it.\n",
    "\n",
    "2. **Getting a 🔥 kernel instantiated.** With your OpenAI or Azure OpenAI key you can then create a kernel to send instructions to. We've made it easy for you to use either OpenAI or Azure OpenAI. When using OpenAI, it will default to your using the `text-davinci-003` model; when you use Azure OpenAI there's an extra endpoint setting to consider — and in addition you're asked explicitly for the model you would like to use.\n",
    "\n",
    "3. **Run a semantic 🧂 function.** Okay! You're ready to give your LLM AI a natural language prompt expressed as natural language. We call this kind of interaction with the model \"semantic\" because it lives in the world of the underlying meaning of the text you give to the model. "
   ]
  },
  {
   "attachments": {},
   "cell_type": "markdown",
   "metadata": {},
   "source": [
    "## Step 1️: Set up your OpenAI or Azure OpenAI Service key\n",
    "\n",
    "### 1.1: The system will ask you to type in your secret API key.\n",
    "\n",
    "The boolean variable below `useAzureOpenAI` should be set to `false` if you are using a regular OpenAI key, and `true` if you have an Azure OpenAI Service key. Whichever way you set the variable, a rectangular box will appear at the 👆 top 👆 of the notebook page — asking you to enter the credentials. These credentials are stored locally on your own disk and don't go anywhere else. Once you hit the ▶️ button to run the code, be sure to 👆 look up to the top of this notebook page to enter your creds.\n",
    "\n",
    "You will only see the ▶️ (play) when you hover over the code block below, or you click on it to select it. "
   ]
  },
  {
   "cell_type": "code",
   "execution_count": null,
   "metadata": {
    "dotnet_interactive": {
     "language": "csharp"
    },
    "polyglot_notebook": {
     "kernelName": "csharp"
    }
   },
   "outputs": [],
   "source": [
    "#!import ../config/Settings.cs\n",
    "\n",
    "bool useAzureOpenAI = true;\n",
    "\n",
    "await Settings.AskAzureEndpoint(useAzureOpenAI);\n",
    "await Settings.AskModel(useAzureOpenAI);\n",
    "await Settings.AskApiKey(useAzureOpenAI);"
   ]
  },
  {
   "attachments": {},
   "cell_type": "markdown",
   "metadata": {},
   "source": [
    "If you can see a confirmation line above that goes `Settings: OK: AI model configured ...` then proceed to step 2. Note that this is done only once. Your credentials are good to go.\n",
    "\n",
    "REMINDER: You just need to do this **once**. And the rest of the notebooks will use the API key that is stored on your computer in this one big, important step."
   ]
  },
  {
   "attachments": {},
   "cell_type": "markdown",
   "metadata": {},
   "source": [
    "### 1.2 In case you mistyped your API key information, follow these instructions\n",
    "\n",
    "#### 🟡 **SKIP THIS STEP** if you successfully set up your key already\n",
    "\n",
    "Only press the ▶️ button below if you want to reset what you entered above. Before you do so, you will need to \"uncomment\" two characters by removing `//` at the start of line 4.\n",
    "\n",
    "In other words, change `// Settings.Reset();` to `Settings.Reset();`. By doing so you are \"uncommenting\" that line of code so it becomes active. That line is \"commented\" — meaning it's deactivated — so that normally the code block will not work. We set it to be deactivated by default so that you don't inadvertently set your API key in step 1.1 and then just erase it in this step (1.2) by accident."
   ]
  },
  {
   "cell_type": "code",
   "execution_count": null,
   "metadata": {
    "dotnet_interactive": {
     "language": "csharp"
    },
    "polyglot_notebook": {
     "kernelName": "csharp"
    }
   },
   "outputs": [],
   "source": [
    "#!import ../config/Settings.cs\n",
    "\n",
    "// Uncomment the line below to reset your settings and run step 1.1 again so it asks you for your API key\n",
    "// Settings.Reset();"
   ]
  },
  {
   "attachments": {},
   "cell_type": "markdown",
   "metadata": {},
   "source": [
    "## Step 2️: Get a 🔥 kernel ready for you to cook your first dish\n",
    "\n",
    "Congratulations! You're one-third of the way there! Hit ▶️ below to access the locally stored credentials you set up in the first step. This step loads the Microsoft.SemanticKernel package and gets the rest of the notebook prepared to get your semantic function running asap."
   ]
  },
  {
   "cell_type": "code",
   "execution_count": null,
   "metadata": {
    "dotnet_interactive": {
     "language": "csharp"
    },
    "polyglot_notebook": {
     "kernelName": "csharp"
    }
   },
   "outputs": [],
   "source": [
    "#r \"nuget: Microsoft.SemanticKernel, 0.9.61.1-preview\"\n",
    "\n",
    "#!import ../config/Settings.cs\n",
    "\n",
    "using Microsoft.SemanticKernel;\n",
    "using Microsoft.SemanticKernel.KernelExtensions;\n",
    "using System.IO;\n",
    "using Microsoft.SemanticKernel.Configuration;\n",
    "using Microsoft.SemanticKernel.SemanticFunctions;\n",
    "\n",
    "IKernel kernel = Microsoft.SemanticKernel.Kernel.Builder.Build();\n",
    "\n",
    "// Grab the locally stored credentials from the settings.json file. \n",
    "// Name the service as \"davinci\" — assuming that you're using one of the davinci completion models. \n",
    "var (useAzureOpenAI, model, azureEndpoint, apiKey, orgId) = Settings.LoadFromFile();\n",
    "\n",
    "if (useAzureOpenAI)\n",
    "    kernel.Config.AddAzureOpenAITextCompletion(\"davinci\", model, azureEndpoint, apiKey);\n",
    "else\n",
    "    kernel.Config.AddOpenAITextCompletion(\"davinci\", model, apiKey, orgId);"
   ]
  },
  {
   "attachments": {},
   "cell_type": "markdown",
   "metadata": {},
   "source": [
    "If you can see a confirmation line above that starts with `Installed Packages ... • Microsoft.SemanticKernel, ...` then proceed to step 3.\n",
    "\n",
    "😱 **Get an error message?** The most common error is accidentally resetting your credentials file, or setting it up with the wrong information. Look at the 'settings.json' file in your config directory to make sure your settings make sense. And if you're still stuck, go to https://aka.ms/sk/discord where we have realtime support."
   ]
  },
  {
   "attachments": {},
   "cell_type": "markdown",
   "metadata": {},
   "source": [
    "## Step 3️: Run a semantic 🧂 function in Semantic Kernel to get 🔥 cooking\n",
    "\n",
    "Before you set off to write a semantic function, review our documentation on semantic functions at our [learning hub](https://learn.microsoft.com/en-us/semantic-kernel/howto/semanticfunctions). You'll want to feel comfortable with two ideas:\n",
    "\n",
    "* Creating a parameterized prompt with one variable — `$input` is the default input variable — that you can learn more about [here](https://learn.microsoft.com/semantic-kernel/howto/semanticfunctions#writing-a-more-powerful-templated-prompt).\n",
    "\n",
    "* Configuring your prompt with a few standard settings — `MaxTokens`, `Temperature`, `TopP` — that you can learn more about [here](https://learn.microsoft.com/en-us/semantic-kernel/howto/configuringfunctions).\n",
    "\n",
    "You are just three more steps to running a semantic function. Get ready!"
   ]
  },
  {
   "attachments": {},
   "cell_type": "markdown",
   "metadata": {},
   "source": [
    "### Step 3.1: Define a parameterized prompt that takes a single input\n",
    "\n",
    "The following code is what we call a \"semantic function\" — which is almost equivalent to the word \"prompt.\" You'll hear those terms used interchangeably. In addition you'll hear the phrase \"semantic skill\" — which you'll wonder to yourself, \"Is that the same as a semantic function?\" No. But it's also \"almost equivalent.\" This will make sense to you after a few times. No worries and keep on going!"
   ]
  },
  {
   "cell_type": "code",
   "execution_count": null,
   "metadata": {
    "dotnet_interactive": {
     "language": "csharp"
    },
    "polyglot_notebook": {
     "kernelName": "csharp"
    }
   },
   "outputs": [],
   "source": [
    "string mySemanticFunctionInline = \"\"\"\n",
    "{{$input}}\n",
    "\n",
    "Summarize the content above in less than 140 characters.\n",
    "\"\"\";\n",
    "\n",
    "Console.WriteLine(\"A string has been set to be used as a semantic function.\");"
   ]
  },
  {
   "attachments": {},
   "cell_type": "markdown",
   "metadata": {},
   "source": [
    "So the semantic function we're going to define takes an `$input` text and it will summarize it to less than 140 characters. Sound good? Let's keep going."
   ]
  },
  {
   "attachments": {},
   "cell_type": "markdown",
   "metadata": {},
   "source": [
    "### Step 3.2: Tune the prompt to be more non-deterministic (creative) or deterministic (straight)\n",
    "\n",
    "#### 🔵 FAST TRACK Most people will just run the code below without much thought to tuning it, to start\n",
    "\n",
    "The `MaxTokens` setting determines how much processing latitude you're giving to the model — the smaller it is, the less likely it will be to complete your ask. It's the single most important [setting](https://learn.microsoft.com/en-us/semantic-kernel/howto/configuringfunctions) for you to know because it impacts how much you are spending with each request.\n",
    "\n",
    "Also, you can subtly shape the output of the response with the other two parameters. To make the response more or less \"creative,\" tweak the `Temperature` setting between 0 (straight ball) and 1 (curve ball). You can also set the `TopP` setting between 0 (smaller vocabulary) and 1 (larger vocabulary) for a different kind of result."
   ]
  },
  {
   "cell_type": "code",
   "execution_count": null,
   "metadata": {
    "dotnet_interactive": {
     "language": "csharp"
    },
    "polyglot_notebook": {
     "kernelName": "csharp"
    }
   },
   "outputs": [],
   "source": [
    "using Microsoft.SemanticKernel.KernelExtensions;\n",
    "using Microsoft.SemanticKernel.SemanticFunctions;\n",
    "\n",
    "var promptConfig = new PromptTemplateConfig\n",
    "{\n",
    "    Completion =\n",
    "    {\n",
    "        MaxTokens = 1000, Temperature = 0.2, TopP = 0.5,\n",
    "    }\n",
    "};\n",
    "\n",
    "var promptTemplate = new PromptTemplate(\n",
    "    mySemanticFunctionInline, promptConfig, kernel\n",
    ");\n",
    "\n",
    "var functionConfig = new SemanticFunctionConfig(promptConfig, promptTemplate);\n",
    "\n",
    "var summaryFunction = kernel.RegisterSemanticFunction(\"MySkill\", \"Summary\", functionConfig);\n",
    "\n",
    "Console.WriteLine(\"A semantic function has been registered.\");\n"
   ]
  },
  {
   "attachments": {},
   "cell_type": "markdown",
   "metadata": {},
   "source": [
    "### Step 3.3: Set your input to the templated prompt and have the kernel 🔥 process it"
   ]
  },
  {
   "cell_type": "code",
   "execution_count": null,
   "metadata": {
    "dotnet_interactive": {
     "language": "csharp"
    },
    "polyglot_notebook": {
     "kernelName": "csharp"
    }
   },
   "outputs": [],
   "source": [
    "\n",
    "var input = \"\"\"\n",
    "I think with some confidence I can say that 2023 is going to be the most exciting year that \n",
    "the AI community has ever had,” writes Kevin Scott, chief technology officer at Microsoft, \n",
    "in a Q&A on the company’s AI blog. He acknowledges that he also thought 2022 was the most \n",
    "exciting year for AI, but he believes that the pace of innovation is only increasing. \n",
    "This is particularly true with generative AI, which doesn’t simply analyze large data sets \n",
    "but is a tool people can use to create entirely new works. We can already see its promise \n",
    "in systems like GPT-3, which can do anything from helping copyedit and summarize text to \n",
    "providing inspiration, and DALL-E 2, which can create useful and arresting works of art \n",
    "based on text inputs. Here are some of Scott’s predictions about how AI will change the \n",
    "way we work and play.\n",
    "\"\"\";\n",
    "// Text source: https://www.microsoft.com/en-us/worklab/kevin-scott-on-5-ways-generative-ai-will-transform-work-in-2023\n",
    "\n",
    "var summary = await kernel.RunAsync(input, summaryFunction);\n",
    "\n",
    "Console.WriteLine(summary);"
   ]
  },
  {
   "attachments": {},
   "cell_type": "markdown",
   "metadata": {},
   "source": [
    "🎉 You've made your first Semantic Kernel semantic function. Congratulations 🔥!\n",
    "\n",
    "> ✅ Be sure to use `text-davinci-003` instead of the more trendy `gpt-3.5-turbo` when you run the above.\n",
    "\n",
    "> 🤔 **Get `\"Error: Throttling: Too many requests ...\"` message?** The OpenAI services turn out to be extremely popular these days. If you're using the key for a free account, this message will pop up often. \n",
    "\n",
    "> 😱 **Get a different error message?** If you can't see a summarization of the text above, then go to https://aka.ms/sk/discord where we have realtime support available to troubleshoot your problem."
   ]
  },
  {
   "attachments": {},
   "cell_type": "markdown",
   "metadata": {},
   "source": [
    "# ⏭️ Next Steps\n",
    "\n",
    "Run through more advanced examples in the notebooks that are available in our GitHub repo at [https://aka.ms/sk/repo](https://aka.ms/sk/repo).\n",
    "\n",
    "[Learn about 🧂 skills!](../e3-skills-rack/notebook.ipynb)\n",
    "\n",
    "Or stay a longer while and change the prompt above to your liking; and also the `$input` and other parameters to your liking. Please keep in mind that each API call to OpenAI or Azure OpenAI Services will use up tokens."
   ]
  }
 ],
 "metadata": {
  "kernelspec": {
   "display_name": ".NET (C#)",
   "language": "C#",
   "name": ".net-csharp"
  },
  "language_info": {
   "name": "polyglot-notebook"
  },
  "polyglot_notebook": {
   "kernelInfo": {
    "defaultKernelName": "csharp",
    "items": [
     {
      "aliases": [],
      "languageName": "csharp",
      "name": "csharp"
     }
    ]
   }
  }
 },
 "nbformat": 4,
 "nbformat_minor": 2
}
